{
 "metadata": {
  "language_info": {
   "codemirror_mode": {
    "name": "ipython",
    "version": 3
   },
   "file_extension": ".py",
   "mimetype": "text/x-python",
   "name": "python",
   "nbconvert_exporter": "python",
   "pygments_lexer": "ipython3",
   "version": 3
  },
  "orig_nbformat": 2
 },
 "nbformat": 4,
 "nbformat_minor": 2,
 "cells": [
  {
   "source": [
    "$$\n",
    "\\fbox{Projet Traitement du signal: Modualtion, démodulation, sous-échantillonage}\n",
    "$$\n",
    "$\\underline{Julien~Louard~et~Maëlle~Thaller}$\n"
   ],
   "cell_type": "markdown",
   "metadata": {}
  },
  {
   "source": [
    "I. Modulation et démodulation DSB-BC \n"
   ],
   "cell_type": "markdown",
   "metadata": {}
  },
  {
   "cell_type": "code",
   "execution_count": null,
   "metadata": {},
   "outputs": [],
   "source": [
    "import numpy as np\n",
    "from scipy import integrate\n",
    "from math import *\n",
    "import matplotlib.pyplot as plt\n",
    "\n",
    "def f1(t,theta):\n",
    "    return exp(t*cos(theta))\n",
    "\n",
    "def I(t):\n",
    "    '''fonction de bessel modifiée d'ordre 0'''\n",
    "    res1,_=integrate.quad(f1,0,pi,args=(t))\n",
    "    return (1/pi)*res1\n",
    "\n",
    "def signal_atransmettre(t,alpha):\n",
    "    '''on choisit une fenètre de type Kaiser'''\n",
    "    if abs(t)<=B/2:\n",
    "        return I(pi*alpha*sqrt(1-(2*t/B)**2))/I(pi*alpha)\n",
    "    else:\n",
    "        return 0\n",
    "    \n",
    "##affichage du signal\n",
    "B=7\n",
    "alpha=6\n",
    "T=np.linspace(-6,6,1000)\n",
    "Y=[signal_atransmettre(t,alpha) for t in T]\n",
    "plt.plot(T,Y)\n",
    "plt.show()\n",
    "\n",
    "##affichage de son spectre/transformée de Fourier\n",
    "fcheck=np.fft.fft(signal_atransmettre)\n",
    "plt.plot(np.abs(fcheck))\n",
    "plt.show()"
   ]
  }
 ]
}