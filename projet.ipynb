{
 "metadata": {
  "language_info": {
   "codemirror_mode": {
    "name": "ipython",
    "version": 3
   },
   "file_extension": ".py",
   "mimetype": "text/x-python",
   "name": "python",
   "nbconvert_exporter": "python",
   "pygments_lexer": "ipython3",
   "version": 3
  },
  "orig_nbformat": 2
 },
 "nbformat": 4,
 "nbformat_minor": 2,
 "cells": [
  {
   "source": [
    "$$\n",
    "\\fbox{Projet Traitement du signal: Modualtion, démodulation, sous-échantillonage}\n",
    "$$\n",
    "$\\underline{Julien~Louard~et~Maëlle~Thaller}$\n"
   ],
   "cell_type": "markdown",
   "metadata": {}
  },
  {
   "source": [
    "I. Modulation et démodulation DSB-BC \n"
   ],
   "cell_type": "markdown",
   "metadata": {}
  },
  {
   "cell_type": "code",
   "execution_count": null,
   "metadata": {},
   "outputs": [],
   "source": [
    "def f1(t,theta):\n",
    "    return exp(t*cos(theta))\n",
    "\n",
    "def I(t):\n",
    "    '''fonction de bessel modifiée d'ordre 0'''\n",
    "    res1=scipy.integrate.quad(f1,0,pi,args=(t))\n",
    "    return (1/pi)*res1_(sin)\n",
    "\n",
    "def signal_atransmettre(t,alpha):\n",
    "    '''on choisit une fenètre de type Kaiser'''\n",
    "    if abs(t)<=B/2:\n",
    "        return I(pi*alpha*sqrt(1-(2*t/B)**2))/I(pi*alpha)\n",
    "    else:\n",
    "        return I(pi*alpha)"
   ]
  }
 ]
}