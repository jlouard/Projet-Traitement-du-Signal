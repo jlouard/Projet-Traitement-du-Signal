{
 "metadata": {
  "language_info": {
   "codemirror_mode": {
    "name": "ipython",
    "version": 3
   },
   "file_extension": ".py",
   "mimetype": "text/x-python",
   "name": "python",
   "nbconvert_exporter": "python",
   "pygments_lexer": "ipython3",
   "version": 3
  },
  "orig_nbformat": 2
 },
 "nbformat": 4,
 "nbformat_minor": 2,
 "cells": [
  {
   "source": [
    "$$\n",
    "\\fbox{Projet Traitement du signal: Modualtion, démodulation, sous-échantillonage}\n",
    "$$\n",
    "$\\underline{Julien~Louard~et~Maëlle~Thaller}$\n"
   ],
   "cell_type": "markdown",
   "metadata": {}
  },
  {
   "source": [
    "I. Modulation et démodulation DSB-BC \n",
    "\n",
    "On utilisera dans la suite trois fréquences de référence d'ordres de grandeur différents: $B$ la fréquence maximale du signal à transmettre, $f_{c}>>B$ la fréquence de la porteuse, et $f_{\\infty} >> B$ la fréquence d'échantillonage pour représenter les signaux analogiques ($f_{\\infty}$ étant choisie \"très grande\", un signal échantillonné à $f_{\\infty}$ peut être vu comme un signal à temps continu)\n"
   ],
   "cell_type": "markdown",
   "metadata": {}
  },
  {
   "source": [
    "$\\underline{A/Modulation}$\n",
    "- Fabriquer le signal à transmettre $x(t)$, qui doit être à bande limitée $[-B,B]$ (utiliser éventuellement une fenêtre adaptée, par exemple de type Kaiser, pour éviter le \"spectral leakage\"); afficher le signal et son spectre\n",
    "- Fabriquer le signal modulé $x_{m}(t) := x(t) cos(2 \\pi f_{c}(t))$; afficher le signal et son spectre. Pourquoi le nom \"DSB-SC\" donné à ce type de modulation?"
   ],
   "cell_type": "markdown",
   "metadata": {}
  },
  {
   "cell_type": "code",
   "execution_count": null,
   "metadata": {},
   "outputs": [],
   "source": [
    "import numpy as np\n",
    "from scipy import integrate\n",
    "from math import *\n",
    "import matplotlib.pyplot as plt\n",
    "\n",
    "def f1(t,theta):\n",
    "    return exp(t*cos(theta))\n",
    "\n",
    "def I(t):\n",
    "    '''fonction de bessel modifiée d'ordre 0'''\n",
    "    res1,_=integrate.quad(f1,0,pi,args=(t))\n",
    "    return (1/pi)*res1\n",
    "\n",
    "def signal_atransmettre(t,alpha):\n",
    "    '''on choisit une fenètre de type Kaiser'''\n",
    "    if abs(t)<=B/2:\n",
    "        return I(pi*alpha*sqrt(1-(2*t/B)**2))/I(pi*alpha)\n",
    "    else:\n",
    "        return 0\n",
    "    \n",
    "##affichage du signal\n",
    "B=7\n",
    "alpha=6\n",
    "T=np.linspace(-6,6,1000)\n",
    "Y=[signal_atransmettre(t,alpha) for t in T]\n",
    "plt.grid(True)\n",
    "plt.plot(T,Y)\n",
    "plt.title('signal à bande limitée')\n",
    "plt.show()\n",
    "\n",
    "##affichage de son spectre/transformée de Fourier\n"
   ]
  }
 ]
}