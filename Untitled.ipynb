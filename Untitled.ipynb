{
 "cells": [
  {
   "source": [
    "$$\n",
    "\\fbox{MINI-PROJET : TRAITEMENT DU SIGNAL}\n",
    "$$\n",
    "$\\underline{Julien~Louard~et~Maëlle~Thaller}$"
   ],
   "cell_type": "markdown",
   "metadata": {}
  },
  {
   "source": [
    "I. MODULATION ET DEMODULATION DSB-SC"
   ],
   "cell_type": "markdown",
   "metadata": {}
  },
  {
   "source": [
    "A. MODULATION\n",
    "- Fabriquer le signal à transmettre $x(t)$, qui doit être à bande limitée $[-B,B]$ (utiliser éventuellement une fentre adaptée, par exemple de type Kaiser, pour éviter le \"spectral leakage\"); afficher le signal et son spectre\n",
    "- Fabriquer le signal modulé $x_m(t)= x(t)cos(2 \\pi f_c t)$; afficher le signal et son spectre. Pourquoi le nom \"DSB-SC\" donné à ce type de modulation?"
   ],
   "cell_type": "markdown",
   "metadata": {}
  },
  {
   "cell_type": "code",
   "execution_count": null,
   "metadata": {},
   "outputs": [],
   "source": [
    "import numpy as np\n",
    "import soundfile as sf\n",
    "import matplotlib.pyplot as plt\n",
    "import scipy.signal as sig\n",
    "\n",
    "B = 0.5\n",
    "f_c = 50\n",
    "N = 1000\n",
    "dt = 0.1"
   ]
  },
  {
   "cell_type": "code",
   "execution_count": null,
   "metadata": {},
   "outputs": [],
   "source": [
    "T = np.linspace(-6, 6, N)\n",
    "freqs = np.arange(1000)/1000*B\n",
    "\n",
    "x = np.cos(2*np.pi*B*T) + 2*np.cos(2*np.pi*2.4*B*T + 3)\n",
    "x_m = np.cos(2*np.pi*f_c*T)*x"
   ]
  }
 ],
 "metadata": {
  "kernelspec": {
   "display_name": "Python 3",
   "language": "python",
   "name": "python3"
  },
  "language_info": {
   "codemirror_mode": {
    "name": "ipython",
    "version": 3
   },
   "file_extension": ".py",
   "mimetype": "text/x-python",
   "name": "python",
   "nbconvert_exporter": "python",
   "pygments_lexer": "ipython3",
   "version": "3.8.3"
  }
 },
 "nbformat": 4,
 "nbformat_minor": 4
}